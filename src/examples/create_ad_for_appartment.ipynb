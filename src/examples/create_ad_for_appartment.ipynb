{
 "cells": [
  {
   "cell_type": "markdown",
   "metadata": {},
   "source": [
    "# Appartment Rent Ad Creation\n",
    "\n",
    "I have an appartment that I must rent. Let's see if TinyTroupe can help me advertise to the right people!"
   ]
  },
  {
   "cell_type": "code",
   "execution_count": 1,
   "metadata": {},
   "outputs": [
    {
     "name": "stdout",
     "output_type": "stream",
     "text": [
      "Looking for default config on: /Users/app/Documents/social_sim/social_simming/.venv/lib/python3.13/site-packages/tinytroupe/utils/../config.ini\n",
      "Found custom config on: /Users/app/Documents/social_sim/social_simming/src/examples/config.ini\n",
      "\n",
      "!!!!\n",
      "DISCLAIMER: TinyTroupe relies on Artificial Intelligence (AI) models to generate content. \n",
      "The AI models are not perfect and may produce inappropriate or inacurate results. \n",
      "For any serious or consequential use, please review the generated content before using it.\n",
      "!!!!\n",
      "\n",
      "\n",
      "=================================\n",
      "Current TinyTroupe configuration \n",
      "=================================\n",
      "[OpenAI]\n",
      "api_type = openai\n",
      "azure_api_version = 2025-04-14\n",
      "model = gpt-4.1-nano-2025-04-14\n",
      "max_tokens = 4000\n",
      "temperature = 1.2\n",
      "freq_penalty = 0.0\n",
      "presence_penalty = 0.0\n",
      "timeout = 60\n",
      "max_attempts = 5\n",
      "waiting_time = 1\n",
      "exponential_backoff_factor = 5\n",
      "embedding_model = text-embedding-3-small\n",
      "cache_api_calls = False\n",
      "cache_file_name = openai_api_cache.pickle\n",
      "max_content_display_length = 1024\n",
      "\n",
      "[Simulation]\n",
      "rai_harmful_content_prevention = True\n",
      "rai_copyright_infringement_prevention = True\n",
      "\n",
      "[Logging]\n",
      "loglevel = ERROR\n",
      "\n"
     ]
    }
   ],
   "source": [
    "import json\n",
    "import sys\n",
    "sys.path.insert(0, '..')\n",
    "\n",
    "import tinytroupe\n",
    "from tinytroupe.agent import TinyPerson\n",
    "from tinytroupe.environment import TinyWorld, TinySocialNetwork\n",
    "from tinytroupe.examples import *\n",
    "from tinytroupe.extraction import ResultsExtractor\n",
    "\n",
    "from dotenv import load_dotenv\n",
    "\n",
    "load_dotenv()\n",
    "\n",
    "import os\n",
    "\n"
   ]
  },
  {
   "cell_type": "code",
   "execution_count": null,
   "metadata": {},
   "outputs": [],
   "source": [
    "focus_group = TinyWorld(\"Focus group\", [create_lisa_the_data_scientist(), create_oscar_the_architect(), create_marcos_the_physician()])"
   ]
  },
  {
   "cell_type": "code",
   "execution_count": 3,
   "metadata": {},
   "outputs": [],
   "source": [
    "situation = \\\n",
    "\"\"\" \n",
    "This is a focus group dedicated to finding the best way to advertise an appartment for rent.\n",
    "Everyone in the group is a friend to the person who is renting the appartment, called Paulo.\n",
    "The objective is to find the best way to advertise the appartment, so that Paulo can find a good tenant.\n",
    "\"\"\"\n",
    "\n",
    "apartment_description = \\\n",
    "\"\"\"\t\n",
    "The appartment has the following characteristics:\n",
    "  - It is in an old building, but was completely renovated and remodeled by an excellent architect. \n",
    "    There are almost no walls, so it is very spacious, mostly composed of integrated spaces. \n",
    "  - It was also recently repainted, so it looks brand new.\n",
    "  - 1 bedroom. Originally, it had two, but one was converted into a home office.\n",
    "  - 1 integrated kitchen and living room. The kitchen is very elegant, with a central eating wood table,\n",
    "    with 60s-style chairs. The appliances are in gray and steel, and the cabinets are in white, the wood\n",
    "    is light colored.\n",
    "  - Has wood-like floors in all rooms, except the kitchen and bathroom, which are tiled.  \n",
    "  - 2 bathrooms. Both with good taste porcelain and other decorative elements.\n",
    "  - 1 laundry room. The washing machine is new and also doubles as a dryer.\n",
    "  - Is already furnished with a bed, a sofa, a table, a desk, a chair, a washing machine, a refrigerator, \n",
    "    a stove, and a microwave.\n",
    "  - It has a spacious shelf for books and other objects.\n",
    "  - It is close to: a very convenient supermarket, a bakery, a gym, a bus stop, and a subway station. \n",
    "    It is also close to a great argentinian restaurant, and a pizzeria.\n",
    "  - It is located at a main avenue, but the appartment is in the back of the building, so it is very quiet.\n",
    "  - It is near of the best Medicine School in the country, so it is a good place for a medical student.  \n",
    "\"\"\"\n",
    "\n",
    "task = \\\n",
    "\"\"\"\n",
    "Discuss the best way to advertise the appartment, so that Paulo can find a good tenant.\n",
    "\"\"\""
   ]
  },
  {
   "cell_type": "markdown",
   "metadata": {},
   "source": [
    "Inform the focus groups about their situation and task."
   ]
  },
  {
   "cell_type": "code",
   "execution_count": 4,
   "metadata": {},
   "outputs": [
    {
     "data": {
      "text/html": [
       "<pre style=\"margin:0px;;white-space:pre;overflow-x:auto;line-height:normal;font-family:Menlo,'DejaVu Sans Mono',consolas,'Courier New',monospace\"><span style=\"color: #00ffff; text-decoration-color: #00ffff; font-weight: bold; font-style: italic; text-decoration: underline\">USER</span><span style=\"color: #00ffff; text-decoration-color: #00ffff; font-weight: bold; font-style: italic\"> --&gt; </span><span style=\"color: #00ffff; text-decoration-color: #00ffff; font-weight: bold; font-style: italic; text-decoration: underline\">Lisa Carter</span><span style=\"color: #00ffff; text-decoration-color: #00ffff; font-weight: bold; font-style: italic\">: [CONVERSATION] </span>\n",
       "<span style=\"color: #00ffff; text-decoration-color: #00ffff; font-weight: bold; font-style: italic\">          &gt;   This is a focus group dedicated to finding the best way to advertise an appartment for</span>\n",
       "<span style=\"color: #00ffff; text-decoration-color: #00ffff; font-weight: bold; font-style: italic\">          &gt; rent. Everyone in the group is a friend to the person who is renting the appartment,</span>\n",
       "<span style=\"color: #00ffff; text-decoration-color: #00ffff; font-weight: bold; font-style: italic\">          &gt; called Paulo. The objective is to find the best way to advertise the appartment, so that</span>\n",
       "<span style=\"color: #00ffff; text-decoration-color: #00ffff; font-weight: bold; font-style: italic\">          &gt; Paulo can find a good tenant.</span>\n",
       "</pre>\n"
      ],
      "text/plain": [
       "\u001b[1;3;4;38;5;51mUSER\u001b[0m\u001b[1;3;38;5;51m --> \u001b[0m\u001b[1;3;4;38;5;51mLisa Carter\u001b[0m\u001b[1;3;38;5;51m: \u001b[0m\u001b[1;3;38;5;51m[\u001b[0m\u001b[1;3;38;5;51mCONVERSATION\u001b[0m\u001b[1;3;38;5;51m]\u001b[0m\u001b[1;3;38;5;51m \u001b[0m\n",
       "\u001b[1;3;38;5;51m          >   This is a focus group dedicated to finding the best way to advertise an appartment for\u001b[0m\n",
       "\u001b[1;3;38;5;51m          > rent. Everyone in the group is a friend to the person who is renting the appartment,\u001b[0m\n",
       "\u001b[1;3;38;5;51m          > called Paulo. The objective is to find the best way to advertise the appartment, so that\u001b[0m\n",
       "\u001b[1;3;38;5;51m          > Paulo can find a good tenant.\u001b[0m\n"
      ]
     },
     "metadata": {},
     "output_type": "display_data"
    },
    {
     "data": {
      "text/html": [
       "<pre style=\"margin:0px;;white-space:pre;overflow-x:auto;line-height:normal;font-family:Menlo,'DejaVu Sans Mono',consolas,'Courier New',monospace\"><span style=\"color: #00ffff; text-decoration-color: #00ffff; font-weight: bold; font-style: italic\">       + --&gt; </span><span style=\"color: #00ffff; text-decoration-color: #00ffff; font-weight: bold; font-style: italic; text-decoration: underline\">Oscar</span>\n",
       "</pre>\n"
      ],
      "text/plain": [
       "\u001b[1;3;38;5;51m       + --> \u001b[0m\u001b[1;3;4;38;5;51mOscar\u001b[0m\n"
      ]
     },
     "metadata": {},
     "output_type": "display_data"
    },
    {
     "data": {
      "text/html": [
       "<pre style=\"margin:0px;;white-space:pre;overflow-x:auto;line-height:normal;font-family:Menlo,'DejaVu Sans Mono',consolas,'Courier New',monospace\"><span style=\"color: #00ffff; text-decoration-color: #00ffff; font-weight: bold; font-style: italic\">       + --&gt; </span><span style=\"color: #00ffff; text-decoration-color: #00ffff; font-weight: bold; font-style: italic; text-decoration: underline\">Marcos Almeida</span>\n",
       "</pre>\n"
      ],
      "text/plain": [
       "\u001b[1;3;38;5;51m       + --> \u001b[0m\u001b[1;3;4;38;5;51mMarcos Almeida\u001b[0m\n"
      ]
     },
     "metadata": {},
     "output_type": "display_data"
    },
    {
     "data": {
      "text/html": [
       "<pre style=\"margin:0px;;white-space:pre;overflow-x:auto;line-height:normal;font-family:Menlo,'DejaVu Sans Mono',consolas,'Courier New',monospace\"><span style=\"color: #00ffff; text-decoration-color: #00ffff; font-weight: bold; font-style: italic; text-decoration: underline\">USER</span><span style=\"color: #00ffff; text-decoration-color: #00ffff; font-weight: bold; font-style: italic\"> --&gt; </span><span style=\"color: #00ffff; text-decoration-color: #00ffff; font-weight: bold; font-style: italic; text-decoration: underline\">Lisa Carter</span><span style=\"color: #00ffff; text-decoration-color: #00ffff; font-weight: bold; font-style: italic\">: [CONVERSATION] </span>\n",
       "<span style=\"color: #00ffff; text-decoration-color: #00ffff; font-weight: bold; font-style: italic\">          &gt;          The appartment has the following characteristics:   - It is in an old building,</span>\n",
       "<span style=\"color: #00ffff; text-decoration-color: #00ffff; font-weight: bold; font-style: italic\">          &gt; but was completely renovated and remodeled by an excellent architect.      There are</span>\n",
       "<span style=\"color: #00ffff; text-decoration-color: #00ffff; font-weight: bold; font-style: italic\">          &gt; almost no walls, so it is very spacious, mostly composed of integrated spaces.    - It</span>\n",
       "<span style=\"color: #00ffff; text-decoration-color: #00ffff; font-weight: bold; font-style: italic\">          &gt; was also recently repainted, so it looks brand new.   - 1 bedroom. Originally, it had</span>\n",
       "<span style=\"color: #00ffff; text-decoration-color: #00ffff; font-weight: bold; font-style: italic\">          &gt; two, but one was converted into a home office.   - 1 integrated kitchen and living room.</span>\n",
       "<span style=\"color: #00ffff; text-decoration-color: #00ffff; font-weight: bold; font-style: italic\">          &gt; The kitchen is very elegant, with a central eating wood table,     with 60s-style</span>\n",
       "<span style=\"color: #00ffff; text-decoration-color: #00ffff; font-weight: bold; font-style: italic\">          &gt; chairs. The appliances are in gray and steel, and the cabinets are in white, the wood</span>\n",
       "<span style=\"color: #00ffff; text-decoration-color: #00ffff; font-weight: bold; font-style: italic\">          &gt; is light colored.   - Has wood-like floors in all rooms, except the kitchen and</span>\n",
       "<span style=\"color: #00ffff; text-decoration-color: #00ffff; font-weight: bold; font-style: italic\">          &gt; bathroom, which are tiled.     - 2 bathrooms. Both with good taste porcelain and other</span>\n",
       "<span style=\"color: #00ffff; text-decoration-color: #00ffff; font-weight: bold; font-style: italic\">          &gt; decorative elements.   - 1 laundry room. The washing machine is new and also doubles as</span>\n",
       "<span style=\"color: #00ffff; text-decoration-color: #00ffff; font-weight: bold; font-style: italic\">          &gt; a dryer.   - Is already furnished with a bed, a sofa, a table, a desk, a chair, a</span>\n",
       "<span style=\"color: #00ffff; text-decoration-color: #00ffff; font-weight: bold; font-style: italic\">          &gt; washing machine, a refrigerator,      a stove, and a microwave.   - It has a spacious</span>\n",
       "<span style=\"color: #00ffff; text-decoration-color: #00ffff; font-weight: bold; font-style: italic\">          &gt; (...)</span>\n",
       "</pre>\n"
      ],
      "text/plain": [
       "\u001b[1;3;4;38;5;51mUSER\u001b[0m\u001b[1;3;38;5;51m --> \u001b[0m\u001b[1;3;4;38;5;51mLisa Carter\u001b[0m\u001b[1;3;38;5;51m: \u001b[0m\u001b[1;3;38;5;51m[\u001b[0m\u001b[1;3;38;5;51mCONVERSATION\u001b[0m\u001b[1;3;38;5;51m]\u001b[0m\u001b[1;3;38;5;51m \u001b[0m\n",
       "\u001b[1;3;38;5;51m          >          The appartment has the following characteristics:   - It is in an old building,\u001b[0m\n",
       "\u001b[1;3;38;5;51m          > but was completely renovated and remodeled by an excellent architect.      There are\u001b[0m\n",
       "\u001b[1;3;38;5;51m          > almost no walls, so it is very spacious, mostly composed of integrated spaces.    - It\u001b[0m\n",
       "\u001b[1;3;38;5;51m          > was also recently repainted, so it looks brand new.   - \u001b[0m\u001b[1;3;38;5;51m1\u001b[0m\u001b[1;3;38;5;51m bedroom. Originally, it had\u001b[0m\n",
       "\u001b[1;3;38;5;51m          > two, but one was converted into a home office.   - \u001b[0m\u001b[1;3;38;5;51m1\u001b[0m\u001b[1;3;38;5;51m integrated kitchen and living room.\u001b[0m\n",
       "\u001b[1;3;38;5;51m          > The kitchen is very elegant, with a central eating wood table,     with 60s-style\u001b[0m\n",
       "\u001b[1;3;38;5;51m          > chairs. The appliances are in gray and steel, and the cabinets are in white, the wood\u001b[0m\n",
       "\u001b[1;3;38;5;51m          > is light colored.   - Has wood-like floors in all rooms, except the kitchen and\u001b[0m\n",
       "\u001b[1;3;38;5;51m          > bathroom, which are tiled.     - \u001b[0m\u001b[1;3;38;5;51m2\u001b[0m\u001b[1;3;38;5;51m bathrooms. Both with good taste porcelain and other\u001b[0m\n",
       "\u001b[1;3;38;5;51m          > decorative elements.   - \u001b[0m\u001b[1;3;38;5;51m1\u001b[0m\u001b[1;3;38;5;51m laundry room. The washing machine is new and also doubles as\u001b[0m\n",
       "\u001b[1;3;38;5;51m          > a dryer.   - Is already furnished with a bed, a sofa, a table, a desk, a chair, a\u001b[0m\n",
       "\u001b[1;3;38;5;51m          > washing machine, a refrigerator,      a stove, and a microwave.   - It has a spacious\u001b[0m\n",
       "\u001b[1;3;38;5;51m          > \u001b[0m\u001b[1;3;38;5;51m(\u001b[0m\u001b[1;3;38;5;51m...\u001b[0m\u001b[1;3;38;5;51m)\u001b[0m\n"
      ]
     },
     "metadata": {},
     "output_type": "display_data"
    },
    {
     "data": {
      "text/html": [
       "<pre style=\"margin:0px;;white-space:pre;overflow-x:auto;line-height:normal;font-family:Menlo,'DejaVu Sans Mono',consolas,'Courier New',monospace\"><span style=\"color: #00ffff; text-decoration-color: #00ffff; font-weight: bold; font-style: italic\">       + --&gt; </span><span style=\"color: #00ffff; text-decoration-color: #00ffff; font-weight: bold; font-style: italic; text-decoration: underline\">Oscar</span>\n",
       "</pre>\n"
      ],
      "text/plain": [
       "\u001b[1;3;38;5;51m       + --> \u001b[0m\u001b[1;3;4;38;5;51mOscar\u001b[0m\n"
      ]
     },
     "metadata": {},
     "output_type": "display_data"
    },
    {
     "data": {
      "text/html": [
       "<pre style=\"margin:0px;;white-space:pre;overflow-x:auto;line-height:normal;font-family:Menlo,'DejaVu Sans Mono',consolas,'Courier New',monospace\"><span style=\"color: #00ffff; text-decoration-color: #00ffff; font-weight: bold; font-style: italic\">       + --&gt; </span><span style=\"color: #00ffff; text-decoration-color: #00ffff; font-weight: bold; font-style: italic; text-decoration: underline\">Marcos Almeida</span>\n",
       "</pre>\n"
      ],
      "text/plain": [
       "\u001b[1;3;38;5;51m       + --> \u001b[0m\u001b[1;3;4;38;5;51mMarcos Almeida\u001b[0m\n"
      ]
     },
     "metadata": {},
     "output_type": "display_data"
    },
    {
     "data": {
      "text/html": [
       "<pre style=\"margin:0px;;white-space:pre;overflow-x:auto;line-height:normal;font-family:Menlo,'DejaVu Sans Mono',consolas,'Courier New',monospace\"><span style=\"color: #00ffff; text-decoration-color: #00ffff; font-weight: bold; font-style: italic; text-decoration: underline\">USER</span><span style=\"color: #00ffff; text-decoration-color: #00ffff; font-weight: bold; font-style: italic\"> --&gt; </span><span style=\"color: #00ffff; text-decoration-color: #00ffff; font-weight: bold; font-style: italic; text-decoration: underline\">Lisa Carter</span><span style=\"color: #00ffff; text-decoration-color: #00ffff; font-weight: bold; font-style: italic\">: [CONVERSATION] </span>\n",
       "<span style=\"color: #00ffff; text-decoration-color: #00ffff; font-weight: bold; font-style: italic\">          &gt;  Discuss the best way to advertise the appartment, so that Paulo can find a good tenant.</span>\n",
       "</pre>\n"
      ],
      "text/plain": [
       "\u001b[1;3;4;38;5;51mUSER\u001b[0m\u001b[1;3;38;5;51m --> \u001b[0m\u001b[1;3;4;38;5;51mLisa Carter\u001b[0m\u001b[1;3;38;5;51m: \u001b[0m\u001b[1;3;38;5;51m[\u001b[0m\u001b[1;3;38;5;51mCONVERSATION\u001b[0m\u001b[1;3;38;5;51m]\u001b[0m\u001b[1;3;38;5;51m \u001b[0m\n",
       "\u001b[1;3;38;5;51m          >  Discuss the best way to advertise the appartment, so that Paulo can find a good tenant.\u001b[0m\n"
      ]
     },
     "metadata": {},
     "output_type": "display_data"
    },
    {
     "data": {
      "text/html": [
       "<pre style=\"margin:0px;;white-space:pre;overflow-x:auto;line-height:normal;font-family:Menlo,'DejaVu Sans Mono',consolas,'Courier New',monospace\"><span style=\"color: #00ffff; text-decoration-color: #00ffff; font-weight: bold; font-style: italic\">       + --&gt; </span><span style=\"color: #00ffff; text-decoration-color: #00ffff; font-weight: bold; font-style: italic; text-decoration: underline\">Oscar</span>\n",
       "</pre>\n"
      ],
      "text/plain": [
       "\u001b[1;3;38;5;51m       + --> \u001b[0m\u001b[1;3;4;38;5;51mOscar\u001b[0m\n"
      ]
     },
     "metadata": {},
     "output_type": "display_data"
    },
    {
     "data": {
      "text/html": [
       "<pre style=\"margin:0px;;white-space:pre;overflow-x:auto;line-height:normal;font-family:Menlo,'DejaVu Sans Mono',consolas,'Courier New',monospace\"><span style=\"color: #00ffff; text-decoration-color: #00ffff; font-weight: bold; font-style: italic\">       + --&gt; </span><span style=\"color: #00ffff; text-decoration-color: #00ffff; font-weight: bold; font-style: italic; text-decoration: underline\">Marcos Almeida</span>\n",
       "</pre>\n"
      ],
      "text/plain": [
       "\u001b[1;3;38;5;51m       + --> \u001b[0m\u001b[1;3;4;38;5;51mMarcos Almeida\u001b[0m\n"
      ]
     },
     "metadata": {},
     "output_type": "display_data"
    }
   ],
   "source": [
    "focus_group.broadcast(situation)\n",
    "focus_group.broadcast(apartment_description)\n",
    "focus_group.broadcast(task)"
   ]
  },
  {
   "cell_type": "markdown",
   "metadata": {},
   "source": [
    "Start the focus group discussion."
   ]
  },
  {
   "cell_type": "code",
   "execution_count": 5,
   "metadata": {},
   "outputs": [
    {
     "data": {
      "text/html": [
       "<pre style=\"margin:0px;;white-space:pre;overflow-x:auto;line-height:normal;font-family:Menlo,'DejaVu Sans Mono',consolas,'Courier New',monospace\"><span style=\"color: #00ff00; text-decoration-color: #00ff00\">───────────────────────────────────────────── </span>Focus group step <span style=\"color: #008080; text-decoration-color: #008080; font-weight: bold\">1</span> of <span style=\"color: #008080; text-decoration-color: #008080; font-weight: bold\">3</span><span style=\"color: #00ff00; text-decoration-color: #00ff00\"> ─────────────────────────────────────────────</span>\n",
       "</pre>\n"
      ],
      "text/plain": [
       "\u001b[92m───────────────────────────────────────────── \u001b[0mFocus group step \u001b[1;36m1\u001b[0m of \u001b[1;36m3\u001b[0m\u001b[92m ─────────────────────────────────────────────\u001b[0m\n"
      ]
     },
     "metadata": {},
     "output_type": "display_data"
    },
    {
     "data": {
      "text/html": [
       "<pre style=\"margin:0px;;white-space:pre;overflow-x:auto;line-height:normal;font-family:Menlo,'DejaVu Sans Mono',consolas,'Courier New',monospace\"><span style=\"color: #008000; text-decoration-color: #008000; text-decoration: underline\">Lisa Carter</span><span style=\"color: #008000; text-decoration-color: #008000\"> acts: </span><span style=\"color: #008000; text-decoration-color: #008000; font-weight: bold\">[</span><span style=\"color: #008000; text-decoration-color: #008000\">THINK</span><span style=\"color: #008000; text-decoration-color: #008000; font-weight: bold\">]</span><span style=\"color: #008000; text-decoration-color: #008000\"> </span>\n",
       "<span style=\"color: #008000; text-decoration-color: #008000\">                 &gt; The apartment has many attractive features that could appeal to different types</span>\n",
       "<span style=\"color: #008000; text-decoration-color: #008000\">                 &gt; of tenants, especially students or young professionals. I should consider</span>\n",
       "<span style=\"color: #008000; text-decoration-color: #008000\">                 &gt; highlighting its modern renovation, spacious open layout, and convenient location</span>\n",
       "<span style=\"color: #008000; text-decoration-color: #008000\">                 &gt; near amenities and the university. To start, I will think about the best way to</span>\n",
       "<span style=\"color: #008000; text-decoration-color: #008000\">                 &gt; present these features to attract a good tenant.</span>\n",
       "</pre>\n"
      ],
      "text/plain": [
       "\u001b[4;32mLisa Carter\u001b[0m\u001b[32m acts: \u001b[0m\u001b[1;32m[\u001b[0m\u001b[32mTHINK\u001b[0m\u001b[1;32m]\u001b[0m\u001b[32m \u001b[0m\n",
       "\u001b[32m                 > The apartment has many attractive features that could appeal to different types\u001b[0m\n",
       "\u001b[32m                 > of tenants, especially students or young professionals. I should consider\u001b[0m\n",
       "\u001b[32m                 > highlighting its modern renovation, spacious open layout, and convenient location\u001b[0m\n",
       "\u001b[32m                 > near amenities and the university. To start, I will think about the best way to\u001b[0m\n",
       "\u001b[32m                 > present these features to attract a good tenant.\u001b[0m\n"
      ]
     },
     "metadata": {},
     "output_type": "display_data"
    },
    {
     "data": {
      "text/html": [
       "<pre style=\"margin:0px;;white-space:pre;overflow-x:auto;line-height:normal;font-family:Menlo,'DejaVu Sans Mono',consolas,'Courier New',monospace\"><span style=\"color: #00d700; text-decoration-color: #00d700; font-weight: bold; text-decoration: underline\">Lisa Carter</span><span style=\"color: #00d700; text-decoration-color: #00d700; font-weight: bold\"> acts: [TALK] </span>\n",
       "<span style=\"color: #00d700; text-decoration-color: #00d700; font-weight: bold\">                 &gt; I think the best approach is to create an appealing online listing that</span>\n",
       "<span style=\"color: #00d700; text-decoration-color: #00d700; font-weight: bold\">                 &gt; highlights the apartment's modern renovation, spacious open layout, and excellent</span>\n",
       "<span style=\"color: #00d700; text-decoration-color: #00d700; font-weight: bold\">                 &gt; location near amenities and the university. I should also consider sharing the</span>\n",
       "<span style=\"color: #00d700; text-decoration-color: #00d700; font-weight: bold\">                 &gt; listing on social media platforms and local community boards to reach a wider</span>\n",
       "<span style=\"color: #00d700; text-decoration-color: #00d700; font-weight: bold\">                 &gt; audience.</span>\n",
       "</pre>\n"
      ],
      "text/plain": [
       "\u001b[1;4;38;5;40mLisa Carter\u001b[0m\u001b[1;38;5;40m acts: \u001b[0m\u001b[1;38;5;40m[\u001b[0m\u001b[1;38;5;40mTALK\u001b[0m\u001b[1;38;5;40m]\u001b[0m\u001b[1;38;5;40m \u001b[0m\n",
       "\u001b[1;38;5;40m                 > I think the best approach is to create an appealing online listing that\u001b[0m\n",
       "\u001b[1;38;5;40m                 > highlights the apartment's modern renovation, spacious open layout, and excellent\u001b[0m\n",
       "\u001b[1;38;5;40m                 > location near amenities and the university. I should also consider sharing the\u001b[0m\n",
       "\u001b[1;38;5;40m                 > listing on social media platforms and local community boards to reach a wider\u001b[0m\n",
       "\u001b[1;38;5;40m                 > audience.\u001b[0m\n"
      ]
     },
     "metadata": {},
     "output_type": "display_data"
    },
    {
     "data": {
      "text/html": [
       "<pre style=\"margin:0px;;white-space:pre;overflow-x:auto;line-height:normal;font-family:Menlo,'DejaVu Sans Mono',consolas,'Courier New',monospace\"><span style=\"color: #008000; text-decoration-color: #008000; text-decoration: underline\">Lisa Carter</span><span style=\"color: #008000; text-decoration-color: #008000\"> acts: </span><span style=\"color: #008000; text-decoration-color: #008000; font-weight: bold\">[</span><span style=\"color: #008000; text-decoration-color: #008000\">THINK</span><span style=\"color: #008000; text-decoration-color: #008000; font-weight: bold\">]</span><span style=\"color: #008000; text-decoration-color: #008000\"> </span>\n",
       "<span style=\"color: #008000; text-decoration-color: #008000\">                 &gt; I should now consider the best specific wording and channels for the</span>\n",
       "<span style=\"color: #008000; text-decoration-color: #008000\">                 &gt; advertisement. Highlighting the apartment's modern renovation, spacious layout,</span>\n",
       "<span style=\"color: #008000; text-decoration-color: #008000\">                 &gt; and proximity to the university and amenities will be key. I will also think</span>\n",
       "<span style=\"color: #008000; text-decoration-color: #008000\">                 &gt; about the target audience, likely students or young professionals, and how to</span>\n",
       "<span style=\"color: #008000; text-decoration-color: #008000\">                 &gt; reach them effectively.</span>\n",
       "</pre>\n"
      ],
      "text/plain": [
       "\u001b[4;32mLisa Carter\u001b[0m\u001b[32m acts: \u001b[0m\u001b[1;32m[\u001b[0m\u001b[32mTHINK\u001b[0m\u001b[1;32m]\u001b[0m\u001b[32m \u001b[0m\n",
       "\u001b[32m                 > I should now consider the best specific wording and channels for the\u001b[0m\n",
       "\u001b[32m                 > advertisement. Highlighting the apartment's modern renovation, spacious layout,\u001b[0m\n",
       "\u001b[32m                 > and proximity to the university and amenities will be key. I will also think\u001b[0m\n",
       "\u001b[32m                 > about the target audience, likely students or young professionals, and how to\u001b[0m\n",
       "\u001b[32m                 > reach them effectively.\u001b[0m\n"
      ]
     },
     "metadata": {},
     "output_type": "display_data"
    },
    {
     "ename": "KeyboardInterrupt",
     "evalue": "",
     "output_type": "error",
     "traceback": [
      "\u001b[31m---------------------------------------------------------------------------\u001b[39m",
      "\u001b[31mKeyboardInterrupt\u001b[39m                         Traceback (most recent call last)",
      "\u001b[36mCell\u001b[39m\u001b[36m \u001b[39m\u001b[32mIn[5]\u001b[39m\u001b[32m, line 1\u001b[39m\n\u001b[32m----> \u001b[39m\u001b[32m1\u001b[39m \u001b[43mfocus_group\u001b[49m\u001b[43m.\u001b[49m\u001b[43mrun\u001b[49m\u001b[43m(\u001b[49m\u001b[32;43m3\u001b[39;49m\u001b[43m)\u001b[49m\n",
      "\u001b[36mFile \u001b[39m\u001b[32m~/Documents/social_sim/social_simming/.venv/lib/python3.13/site-packages/tinytroupe/control.py:553\u001b[39m, in \u001b[36mtransactional.<locals>.wrapper\u001b[39m\u001b[34m(*args, **kwargs)\u001b[39m\n\u001b[32m    550\u001b[39m logger.debug(\u001b[33mf\u001b[39m\u001b[33m\"\u001b[39m\u001b[33m-----------------------------------------> Transaction: \u001b[39m\u001b[38;5;132;01m{\u001b[39;00mfunc.\u001b[34m__name__\u001b[39m\u001b[38;5;132;01m}\u001b[39;00m\u001b[33m with args \u001b[39m\u001b[38;5;132;01m{\u001b[39;00margs[\u001b[32m1\u001b[39m:]\u001b[38;5;132;01m}\u001b[39;00m\u001b[33m and kwargs \u001b[39m\u001b[38;5;132;01m{\u001b[39;00mkwargs\u001b[38;5;132;01m}\u001b[39;00m\u001b[33m under simulation \u001b[39m\u001b[38;5;132;01m{\u001b[39;00mobj_sim_id\u001b[38;5;132;01m}\u001b[39;00m\u001b[33m.\u001b[39m\u001b[33m\"\u001b[39m)\n\u001b[32m    552\u001b[39m transaction = Transaction(obj_under_transaction, simulation, func, *args, **kwargs)\n\u001b[32m--> \u001b[39m\u001b[32m553\u001b[39m result = \u001b[43mtransaction\u001b[49m\u001b[43m.\u001b[49m\u001b[43mexecute\u001b[49m\u001b[43m(\u001b[49m\u001b[43m)\u001b[49m\n\u001b[32m    554\u001b[39m \u001b[38;5;28;01mreturn\u001b[39;00m result\n",
      "\u001b[36mFile \u001b[39m\u001b[32m~/Documents/social_sim/social_simming/.venv/lib/python3.13/site-packages/tinytroupe/control.py:435\u001b[39m, in \u001b[36mTransaction.execute\u001b[39m\u001b[34m(self)\u001b[39m\n\u001b[32m    432\u001b[39m \u001b[38;5;66;03m# Transaction caching will only operate if there is a simulation and it is started\u001b[39;00m\n\u001b[32m    433\u001b[39m \u001b[38;5;28;01mif\u001b[39;00m \u001b[38;5;28mself\u001b[39m.simulation \u001b[38;5;129;01mis\u001b[39;00m \u001b[38;5;28;01mNone\u001b[39;00m \u001b[38;5;129;01mor\u001b[39;00m \u001b[38;5;28mself\u001b[39m.simulation.status == Simulation.STATUS_STOPPED:\n\u001b[32m    434\u001b[39m     \u001b[38;5;66;03m# Compute the function and return it, no caching, since the simulation is not started\u001b[39;00m\n\u001b[32m--> \u001b[39m\u001b[32m435\u001b[39m     output = \u001b[38;5;28;43mself\u001b[39;49m\u001b[43m.\u001b[49m\u001b[43mfunction\u001b[49m\u001b[43m(\u001b[49m\u001b[43m*\u001b[49m\u001b[38;5;28;43mself\u001b[39;49m\u001b[43m.\u001b[49m\u001b[43margs\u001b[49m\u001b[43m,\u001b[49m\u001b[43m \u001b[49m\u001b[43m*\u001b[49m\u001b[43m*\u001b[49m\u001b[38;5;28;43mself\u001b[39;49m\u001b[43m.\u001b[49m\u001b[43mkwargs\u001b[49m\u001b[43m)\u001b[49m\n\u001b[32m    437\u001b[39m \u001b[38;5;28;01melif\u001b[39;00m \u001b[38;5;28mself\u001b[39m.simulation.status == Simulation.STATUS_STARTED:\n\u001b[32m    438\u001b[39m     \u001b[38;5;66;03m# Compute the event hash\u001b[39;00m\n\u001b[32m    439\u001b[39m     event_hash = \u001b[38;5;28mself\u001b[39m.simulation._function_call_hash(\u001b[38;5;28mself\u001b[39m.function_name, *\u001b[38;5;28mself\u001b[39m.args, **\u001b[38;5;28mself\u001b[39m.kwargs)\n",
      "\u001b[36mFile \u001b[39m\u001b[32m~/Documents/social_sim/social_simming/.venv/lib/python3.13/site-packages/tinytroupe/environment/tiny_world.py:144\u001b[39m, in \u001b[36mTinyWorld.run\u001b[39m\u001b[34m(self, steps, timedelta_per_step, return_actions)\u001b[39m\n\u001b[32m    141\u001b[39m     \u001b[38;5;28;01mif\u001b[39;00m TinyWorld.communication_display:\n\u001b[32m    142\u001b[39m         \u001b[38;5;28mself\u001b[39m._display_step_communication(cur_step=i+\u001b[32m1\u001b[39m, total_steps=steps, timedelta_per_step=timedelta_per_step)\n\u001b[32m--> \u001b[39m\u001b[32m144\u001b[39m     agents_actions = \u001b[38;5;28;43mself\u001b[39;49m\u001b[43m.\u001b[49m\u001b[43m_step\u001b[49m\u001b[43m(\u001b[49m\u001b[43mtimedelta_per_step\u001b[49m\u001b[43m=\u001b[49m\u001b[43mtimedelta_per_step\u001b[49m\u001b[43m)\u001b[49m\n\u001b[32m    145\u001b[39m     agents_actions_over_time.append(agents_actions)\n\u001b[32m    147\u001b[39m \u001b[38;5;28;01mif\u001b[39;00m return_actions:\n",
      "\u001b[36mFile \u001b[39m\u001b[32m~/Documents/social_sim/social_simming/.venv/lib/python3.13/site-packages/tinytroupe/control.py:553\u001b[39m, in \u001b[36mtransactional.<locals>.wrapper\u001b[39m\u001b[34m(*args, **kwargs)\u001b[39m\n\u001b[32m    550\u001b[39m logger.debug(\u001b[33mf\u001b[39m\u001b[33m\"\u001b[39m\u001b[33m-----------------------------------------> Transaction: \u001b[39m\u001b[38;5;132;01m{\u001b[39;00mfunc.\u001b[34m__name__\u001b[39m\u001b[38;5;132;01m}\u001b[39;00m\u001b[33m with args \u001b[39m\u001b[38;5;132;01m{\u001b[39;00margs[\u001b[32m1\u001b[39m:]\u001b[38;5;132;01m}\u001b[39;00m\u001b[33m and kwargs \u001b[39m\u001b[38;5;132;01m{\u001b[39;00mkwargs\u001b[38;5;132;01m}\u001b[39;00m\u001b[33m under simulation \u001b[39m\u001b[38;5;132;01m{\u001b[39;00mobj_sim_id\u001b[38;5;132;01m}\u001b[39;00m\u001b[33m.\u001b[39m\u001b[33m\"\u001b[39m)\n\u001b[32m    552\u001b[39m transaction = Transaction(obj_under_transaction, simulation, func, *args, **kwargs)\n\u001b[32m--> \u001b[39m\u001b[32m553\u001b[39m result = \u001b[43mtransaction\u001b[49m\u001b[43m.\u001b[49m\u001b[43mexecute\u001b[49m\u001b[43m(\u001b[49m\u001b[43m)\u001b[49m\n\u001b[32m    554\u001b[39m \u001b[38;5;28;01mreturn\u001b[39;00m result\n",
      "\u001b[36mFile \u001b[39m\u001b[32m~/Documents/social_sim/social_simming/.venv/lib/python3.13/site-packages/tinytroupe/control.py:435\u001b[39m, in \u001b[36mTransaction.execute\u001b[39m\u001b[34m(self)\u001b[39m\n\u001b[32m    432\u001b[39m \u001b[38;5;66;03m# Transaction caching will only operate if there is a simulation and it is started\u001b[39;00m\n\u001b[32m    433\u001b[39m \u001b[38;5;28;01mif\u001b[39;00m \u001b[38;5;28mself\u001b[39m.simulation \u001b[38;5;129;01mis\u001b[39;00m \u001b[38;5;28;01mNone\u001b[39;00m \u001b[38;5;129;01mor\u001b[39;00m \u001b[38;5;28mself\u001b[39m.simulation.status == Simulation.STATUS_STOPPED:\n\u001b[32m    434\u001b[39m     \u001b[38;5;66;03m# Compute the function and return it, no caching, since the simulation is not started\u001b[39;00m\n\u001b[32m--> \u001b[39m\u001b[32m435\u001b[39m     output = \u001b[38;5;28;43mself\u001b[39;49m\u001b[43m.\u001b[49m\u001b[43mfunction\u001b[49m\u001b[43m(\u001b[49m\u001b[43m*\u001b[49m\u001b[38;5;28;43mself\u001b[39;49m\u001b[43m.\u001b[49m\u001b[43margs\u001b[49m\u001b[43m,\u001b[49m\u001b[43m \u001b[49m\u001b[43m*\u001b[49m\u001b[43m*\u001b[49m\u001b[38;5;28;43mself\u001b[39;49m\u001b[43m.\u001b[49m\u001b[43mkwargs\u001b[49m\u001b[43m)\u001b[49m\n\u001b[32m    437\u001b[39m \u001b[38;5;28;01melif\u001b[39;00m \u001b[38;5;28mself\u001b[39m.simulation.status == Simulation.STATUS_STARTED:\n\u001b[32m    438\u001b[39m     \u001b[38;5;66;03m# Compute the event hash\u001b[39;00m\n\u001b[32m    439\u001b[39m     event_hash = \u001b[38;5;28mself\u001b[39m.simulation._function_call_hash(\u001b[38;5;28mself\u001b[39m.function_name, *\u001b[38;5;28mself\u001b[39m.args, **\u001b[38;5;28mself\u001b[39m.kwargs)\n",
      "\u001b[36mFile \u001b[39m\u001b[32m~/Documents/social_sim/social_simming/.venv/lib/python3.13/site-packages/tinytroupe/environment/tiny_world.py:103\u001b[39m, in \u001b[36mTinyWorld._step\u001b[39m\u001b[34m(self, timedelta_per_step)\u001b[39m\n\u001b[32m    101\u001b[39m \u001b[38;5;28;01mfor\u001b[39;00m agent \u001b[38;5;129;01min\u001b[39;00m \u001b[38;5;28mself\u001b[39m.agents:\n\u001b[32m    102\u001b[39m     logger.debug(\u001b[33mf\u001b[39m\u001b[33m\"\u001b[39m\u001b[33m[\u001b[39m\u001b[38;5;132;01m{\u001b[39;00m\u001b[38;5;28mself\u001b[39m.name\u001b[38;5;132;01m}\u001b[39;00m\u001b[33m] Agent \u001b[39m\u001b[38;5;132;01m{\u001b[39;00mname_or_empty(agent)\u001b[38;5;132;01m}\u001b[39;00m\u001b[33m is acting.\u001b[39m\u001b[33m\"\u001b[39m)\n\u001b[32m--> \u001b[39m\u001b[32m103\u001b[39m     actions = \u001b[43magent\u001b[49m\u001b[43m.\u001b[49m\u001b[43mact\u001b[49m\u001b[43m(\u001b[49m\u001b[43mreturn_actions\u001b[49m\u001b[43m=\u001b[49m\u001b[38;5;28;43;01mTrue\u001b[39;49;00m\u001b[43m)\u001b[49m\n\u001b[32m    104\u001b[39m     agents_actions[agent.name] = actions\n\u001b[32m    106\u001b[39m     \u001b[38;5;28mself\u001b[39m._handle_actions(agent, agent.pop_latest_actions())\n",
      "\u001b[36mFile \u001b[39m\u001b[32m~/Documents/social_sim/social_simming/.venv/lib/python3.13/site-packages/tinytroupe/control.py:553\u001b[39m, in \u001b[36mtransactional.<locals>.wrapper\u001b[39m\u001b[34m(*args, **kwargs)\u001b[39m\n\u001b[32m    550\u001b[39m logger.debug(\u001b[33mf\u001b[39m\u001b[33m\"\u001b[39m\u001b[33m-----------------------------------------> Transaction: \u001b[39m\u001b[38;5;132;01m{\u001b[39;00mfunc.\u001b[34m__name__\u001b[39m\u001b[38;5;132;01m}\u001b[39;00m\u001b[33m with args \u001b[39m\u001b[38;5;132;01m{\u001b[39;00margs[\u001b[32m1\u001b[39m:]\u001b[38;5;132;01m}\u001b[39;00m\u001b[33m and kwargs \u001b[39m\u001b[38;5;132;01m{\u001b[39;00mkwargs\u001b[38;5;132;01m}\u001b[39;00m\u001b[33m under simulation \u001b[39m\u001b[38;5;132;01m{\u001b[39;00mobj_sim_id\u001b[38;5;132;01m}\u001b[39;00m\u001b[33m.\u001b[39m\u001b[33m\"\u001b[39m)\n\u001b[32m    552\u001b[39m transaction = Transaction(obj_under_transaction, simulation, func, *args, **kwargs)\n\u001b[32m--> \u001b[39m\u001b[32m553\u001b[39m result = \u001b[43mtransaction\u001b[49m\u001b[43m.\u001b[49m\u001b[43mexecute\u001b[49m\u001b[43m(\u001b[49m\u001b[43m)\u001b[49m\n\u001b[32m    554\u001b[39m \u001b[38;5;28;01mreturn\u001b[39;00m result\n",
      "\u001b[36mFile \u001b[39m\u001b[32m~/Documents/social_sim/social_simming/.venv/lib/python3.13/site-packages/tinytroupe/control.py:435\u001b[39m, in \u001b[36mTransaction.execute\u001b[39m\u001b[34m(self)\u001b[39m\n\u001b[32m    432\u001b[39m \u001b[38;5;66;03m# Transaction caching will only operate if there is a simulation and it is started\u001b[39;00m\n\u001b[32m    433\u001b[39m \u001b[38;5;28;01mif\u001b[39;00m \u001b[38;5;28mself\u001b[39m.simulation \u001b[38;5;129;01mis\u001b[39;00m \u001b[38;5;28;01mNone\u001b[39;00m \u001b[38;5;129;01mor\u001b[39;00m \u001b[38;5;28mself\u001b[39m.simulation.status == Simulation.STATUS_STOPPED:\n\u001b[32m    434\u001b[39m     \u001b[38;5;66;03m# Compute the function and return it, no caching, since the simulation is not started\u001b[39;00m\n\u001b[32m--> \u001b[39m\u001b[32m435\u001b[39m     output = \u001b[38;5;28;43mself\u001b[39;49m\u001b[43m.\u001b[49m\u001b[43mfunction\u001b[49m\u001b[43m(\u001b[49m\u001b[43m*\u001b[49m\u001b[38;5;28;43mself\u001b[39;49m\u001b[43m.\u001b[49m\u001b[43margs\u001b[49m\u001b[43m,\u001b[49m\u001b[43m \u001b[49m\u001b[43m*\u001b[49m\u001b[43m*\u001b[49m\u001b[38;5;28;43mself\u001b[39;49m\u001b[43m.\u001b[49m\u001b[43mkwargs\u001b[49m\u001b[43m)\u001b[49m\n\u001b[32m    437\u001b[39m \u001b[38;5;28;01melif\u001b[39;00m \u001b[38;5;28mself\u001b[39m.simulation.status == Simulation.STATUS_STARTED:\n\u001b[32m    438\u001b[39m     \u001b[38;5;66;03m# Compute the event hash\u001b[39;00m\n\u001b[32m    439\u001b[39m     event_hash = \u001b[38;5;28mself\u001b[39m.simulation._function_call_hash(\u001b[38;5;28mself\u001b[39m.function_name, *\u001b[38;5;28mself\u001b[39m.args, **\u001b[38;5;28mself\u001b[39m.kwargs)\n",
      "\u001b[36mFile \u001b[39m\u001b[32m~/Documents/social_sim/social_simming/.venv/lib/python3.13/site-packages/tinytroupe/agent/tiny_person.py:506\u001b[39m, in \u001b[36mTinyPerson.act\u001b[39m\u001b[34m(self, until_done, n, return_actions, max_content_length)\u001b[39m\n\u001b[32m    503\u001b[39m                 \u001b[38;5;28;01mbreak\u001b[39;00m\n\u001b[32m    505\u001b[39m         aux_pre_act()\n\u001b[32m--> \u001b[39m\u001b[32m506\u001b[39m         \u001b[43maux_act_once\u001b[49m\u001b[43m(\u001b[49m\u001b[43m)\u001b[49m\n\u001b[32m    508\u001b[39m \u001b[38;5;28;01mif\u001b[39;00m return_actions:\n\u001b[32m    509\u001b[39m     \u001b[38;5;28;01mreturn\u001b[39;00m contents\n",
      "\u001b[36mFile \u001b[39m\u001b[32m~/Documents/social_sim/social_simming/.venv/lib/python3.13/site-packages/tinytroupe/utils/llm.py:152\u001b[39m, in \u001b[36mrepeat_on_error.<locals>.decorator.<locals>.wrapper\u001b[39m\u001b[34m(*args, **kwargs)\u001b[39m\n\u001b[32m    150\u001b[39m \u001b[38;5;28;01mfor\u001b[39;00m i \u001b[38;5;129;01min\u001b[39;00m \u001b[38;5;28mrange\u001b[39m(retries):\n\u001b[32m    151\u001b[39m     \u001b[38;5;28;01mtry\u001b[39;00m:\n\u001b[32m--> \u001b[39m\u001b[32m152\u001b[39m         \u001b[38;5;28;01mreturn\u001b[39;00m \u001b[43mfunc\u001b[49m\u001b[43m(\u001b[49m\u001b[43m*\u001b[49m\u001b[43margs\u001b[49m\u001b[43m,\u001b[49m\u001b[43m \u001b[49m\u001b[43m*\u001b[49m\u001b[43m*\u001b[49m\u001b[43mkwargs\u001b[49m\u001b[43m)\u001b[49m\n\u001b[32m    153\u001b[39m     \u001b[38;5;28;01mexcept\u001b[39;00m \u001b[38;5;28mtuple\u001b[39m(exceptions) \u001b[38;5;28;01mas\u001b[39;00m e:\n\u001b[32m    154\u001b[39m         logger.debug(\u001b[33mf\u001b[39m\u001b[33m\"\u001b[39m\u001b[33mException occurred: \u001b[39m\u001b[38;5;132;01m{\u001b[39;00me\u001b[38;5;132;01m}\u001b[39;00m\u001b[33m\"\u001b[39m)\n",
      "\u001b[36mFile \u001b[39m\u001b[32m~/Documents/social_sim/social_simming/.venv/lib/python3.13/site-packages/tinytroupe/agent/tiny_person.py:446\u001b[39m, in \u001b[36mTinyPerson.act.<locals>.aux_act_once\u001b[39m\u001b[34m()\u001b[39m\n\u001b[32m    444\u001b[39m \u001b[38;5;129m@repeat_on_error\u001b[39m(retries=\u001b[32m5\u001b[39m, exceptions=[\u001b[38;5;167;01mKeyError\u001b[39;00m, \u001b[38;5;167;01mTypeError\u001b[39;00m])\n\u001b[32m    445\u001b[39m \u001b[38;5;28;01mdef\u001b[39;00m\u001b[38;5;250m \u001b[39m\u001b[34maux_act_once\u001b[39m():\n\u001b[32m--> \u001b[39m\u001b[32m446\u001b[39m     role, content = \u001b[38;5;28;43mself\u001b[39;49m\u001b[43m.\u001b[49m\u001b[43m_produce_message\u001b[49m\u001b[43m(\u001b[49m\u001b[43m)\u001b[49m\n\u001b[32m    448\u001b[39m     cognitive_state = content[\u001b[33m\"\u001b[39m\u001b[33mcognitive_state\u001b[39m\u001b[33m\"\u001b[39m]\n\u001b[32m    451\u001b[39m     action = content[\u001b[33m'\u001b[39m\u001b[33maction\u001b[39m\u001b[33m'\u001b[39m]\n",
      "\u001b[36mFile \u001b[39m\u001b[32m~/Documents/social_sim/social_simming/.venv/lib/python3.13/site-packages/tinytroupe/control.py:553\u001b[39m, in \u001b[36mtransactional.<locals>.wrapper\u001b[39m\u001b[34m(*args, **kwargs)\u001b[39m\n\u001b[32m    550\u001b[39m logger.debug(\u001b[33mf\u001b[39m\u001b[33m\"\u001b[39m\u001b[33m-----------------------------------------> Transaction: \u001b[39m\u001b[38;5;132;01m{\u001b[39;00mfunc.\u001b[34m__name__\u001b[39m\u001b[38;5;132;01m}\u001b[39;00m\u001b[33m with args \u001b[39m\u001b[38;5;132;01m{\u001b[39;00margs[\u001b[32m1\u001b[39m:]\u001b[38;5;132;01m}\u001b[39;00m\u001b[33m and kwargs \u001b[39m\u001b[38;5;132;01m{\u001b[39;00mkwargs\u001b[38;5;132;01m}\u001b[39;00m\u001b[33m under simulation \u001b[39m\u001b[38;5;132;01m{\u001b[39;00mobj_sim_id\u001b[38;5;132;01m}\u001b[39;00m\u001b[33m.\u001b[39m\u001b[33m\"\u001b[39m)\n\u001b[32m    552\u001b[39m transaction = Transaction(obj_under_transaction, simulation, func, *args, **kwargs)\n\u001b[32m--> \u001b[39m\u001b[32m553\u001b[39m result = \u001b[43mtransaction\u001b[49m\u001b[43m.\u001b[49m\u001b[43mexecute\u001b[49m\u001b[43m(\u001b[49m\u001b[43m)\u001b[49m\n\u001b[32m    554\u001b[39m \u001b[38;5;28;01mreturn\u001b[39;00m result\n",
      "\u001b[36mFile \u001b[39m\u001b[32m~/Documents/social_sim/social_simming/.venv/lib/python3.13/site-packages/tinytroupe/control.py:435\u001b[39m, in \u001b[36mTransaction.execute\u001b[39m\u001b[34m(self)\u001b[39m\n\u001b[32m    432\u001b[39m \u001b[38;5;66;03m# Transaction caching will only operate if there is a simulation and it is started\u001b[39;00m\n\u001b[32m    433\u001b[39m \u001b[38;5;28;01mif\u001b[39;00m \u001b[38;5;28mself\u001b[39m.simulation \u001b[38;5;129;01mis\u001b[39;00m \u001b[38;5;28;01mNone\u001b[39;00m \u001b[38;5;129;01mor\u001b[39;00m \u001b[38;5;28mself\u001b[39m.simulation.status == Simulation.STATUS_STOPPED:\n\u001b[32m    434\u001b[39m     \u001b[38;5;66;03m# Compute the function and return it, no caching, since the simulation is not started\u001b[39;00m\n\u001b[32m--> \u001b[39m\u001b[32m435\u001b[39m     output = \u001b[38;5;28;43mself\u001b[39;49m\u001b[43m.\u001b[49m\u001b[43mfunction\u001b[49m\u001b[43m(\u001b[49m\u001b[43m*\u001b[49m\u001b[38;5;28;43mself\u001b[39;49m\u001b[43m.\u001b[49m\u001b[43margs\u001b[49m\u001b[43m,\u001b[49m\u001b[43m \u001b[49m\u001b[43m*\u001b[49m\u001b[43m*\u001b[49m\u001b[38;5;28;43mself\u001b[39;49m\u001b[43m.\u001b[49m\u001b[43mkwargs\u001b[49m\u001b[43m)\u001b[49m\n\u001b[32m    437\u001b[39m \u001b[38;5;28;01melif\u001b[39;00m \u001b[38;5;28mself\u001b[39m.simulation.status == Simulation.STATUS_STARTED:\n\u001b[32m    438\u001b[39m     \u001b[38;5;66;03m# Compute the event hash\u001b[39;00m\n\u001b[32m    439\u001b[39m     event_hash = \u001b[38;5;28mself\u001b[39m.simulation._function_call_hash(\u001b[38;5;28mself\u001b[39m.function_name, *\u001b[38;5;28mself\u001b[39m.args, **\u001b[38;5;28mself\u001b[39m.kwargs)\n",
      "\u001b[36mFile \u001b[39m\u001b[32m~/Documents/social_sim/social_simming/.venv/lib/python3.13/site-packages/tinytroupe/agent/tiny_person.py:787\u001b[39m, in \u001b[36mTinyPerson._produce_message\u001b[39m\u001b[34m(self)\u001b[39m\n\u001b[32m    784\u001b[39m logger.debug(\u001b[33mf\u001b[39m\u001b[33m\"\u001b[39m\u001b[33m[\u001b[39m\u001b[38;5;132;01m{\u001b[39;00m\u001b[38;5;28mself\u001b[39m.name\u001b[38;5;132;01m}\u001b[39;00m\u001b[33m] Sending messages to OpenAI API\u001b[39m\u001b[33m\"\u001b[39m)\n\u001b[32m    785\u001b[39m logger.debug(\u001b[33mf\u001b[39m\u001b[33m\"\u001b[39m\u001b[33m[\u001b[39m\u001b[38;5;132;01m{\u001b[39;00m\u001b[38;5;28mself\u001b[39m.name\u001b[38;5;132;01m}\u001b[39;00m\u001b[33m] Last interaction: \u001b[39m\u001b[38;5;132;01m{\u001b[39;00mmessages[-\u001b[32m1\u001b[39m]\u001b[38;5;132;01m}\u001b[39;00m\u001b[33m\"\u001b[39m)\n\u001b[32m--> \u001b[39m\u001b[32m787\u001b[39m next_message = \u001b[43mopenai_utils\u001b[49m\u001b[43m.\u001b[49m\u001b[43mclient\u001b[49m\u001b[43m(\u001b[49m\u001b[43m)\u001b[49m\u001b[43m.\u001b[49m\u001b[43msend_message\u001b[49m\u001b[43m(\u001b[49m\u001b[43mmessages\u001b[49m\u001b[43m,\u001b[49m\u001b[43m \u001b[49m\u001b[43mresponse_format\u001b[49m\u001b[43m=\u001b[49m\u001b[43mCognitiveActionModel\u001b[49m\u001b[43m)\u001b[49m\n\u001b[32m    789\u001b[39m logger.debug(\u001b[33mf\u001b[39m\u001b[33m\"\u001b[39m\u001b[33m[\u001b[39m\u001b[38;5;132;01m{\u001b[39;00m\u001b[38;5;28mself\u001b[39m.name\u001b[38;5;132;01m}\u001b[39;00m\u001b[33m] Received message: \u001b[39m\u001b[38;5;132;01m{\u001b[39;00mnext_message\u001b[38;5;132;01m}\u001b[39;00m\u001b[33m\"\u001b[39m)\n\u001b[32m    791\u001b[39m \u001b[38;5;28;01mreturn\u001b[39;00m next_message[\u001b[33m\"\u001b[39m\u001b[33mrole\u001b[39m\u001b[33m\"\u001b[39m], utils.extract_json(next_message[\u001b[33m\"\u001b[39m\u001b[33mcontent\u001b[39m\u001b[33m\"\u001b[39m])\n",
      "\u001b[36mFile \u001b[39m\u001b[32m~/Documents/social_sim/social_simming/.venv/lib/python3.13/site-packages/tinytroupe/openai_utils.py:445\u001b[39m, in \u001b[36mOpenAIClient.send_message\u001b[39m\u001b[34m(self, current_messages, model, temperature, max_tokens, top_p, frequency_penalty, presence_penalty, stop, timeout, max_attempts, waiting_time, exponential_backoff_factor, n, response_format, echo)\u001b[39m\n\u001b[32m    443\u001b[39m \u001b[38;5;28;01mif\u001b[39;00m waiting_time > \u001b[32m0\u001b[39m:\n\u001b[32m    444\u001b[39m     logger.info(\u001b[33mf\u001b[39m\u001b[33m\"\u001b[39m\u001b[33mWaiting \u001b[39m\u001b[38;5;132;01m{\u001b[39;00mwaiting_time\u001b[38;5;132;01m}\u001b[39;00m\u001b[33m seconds before next API request (to avoid throttling)...\u001b[39m\u001b[33m\"\u001b[39m)\n\u001b[32m--> \u001b[39m\u001b[32m445\u001b[39m     \u001b[43mtime\u001b[49m\u001b[43m.\u001b[49m\u001b[43msleep\u001b[49m\u001b[43m(\u001b[49m\u001b[43mwaiting_time\u001b[49m\u001b[43m)\u001b[49m\n\u001b[32m    447\u001b[39m response = \u001b[38;5;28mself\u001b[39m._raw_model_call(model, chat_api_params)\n\u001b[32m    448\u001b[39m \u001b[38;5;28;01mif\u001b[39;00m \u001b[38;5;28mself\u001b[39m.cache_api_calls:\n",
      "\u001b[31mKeyboardInterrupt\u001b[39m: "
     ]
    }
   ],
   "source": [
    "focus_group.run(3)"
   ]
  },
  {
   "cell_type": "code",
   "execution_count": 6,
   "metadata": {},
   "outputs": [
    {
     "name": "stdout",
     "output_type": "stream",
     "text": [
      "Extraction raw result message: {'content': '{\\n  \"ad_copy\": \"Discover your new home in this spacious, modern apartment perfect for medical students! Recently renovated by an excellent architect, this elegant space features integrated living areas, two stylish bathrooms, and a laundry room with new appliances. Enjoy the convenience of nearby supermarkets, bakeries, gyms, and restaurants—all just steps away from public transport. Experience tranquility on a quiet street while being close to the best Medicine School in the country. Don\\'t miss out—schedule a virtual tour today!\"\\n}', 'refusal': None, 'role': 'assistant'}\n"
     ]
    },
    {
     "data": {
      "text/plain": [
       "{'ad_copy': \"Discover your new home in this spacious, modern apartment perfect for medical students! Recently renovated by an excellent architect, this elegant space features integrated living areas, two stylish bathrooms, and a laundry room with new appliances. Enjoy the convenience of nearby supermarkets, bakeries, gyms, and restaurants—all just steps away from public transport. Experience tranquility on a quiet street while being close to the best Medicine School in the country. Don't miss out—schedule a virtual tour today!\"}"
      ]
     },
     "execution_count": 6,
     "metadata": {},
     "output_type": "execute_result"
    }
   ],
   "source": [
    "extractor = ResultsExtractor()\n",
    "\n",
    "extractor.extract_results_from_world(focus_group,\n",
    "                                     extraction_objective=\"Compose an advertisement copy based on the ideas given.\",\n",
    "                                     fields=[\"ad_copy\"],\n",
    "                                    verbose=True)"
   ]
  },
  {
   "cell_type": "code",
   "execution_count": 7,
   "metadata": {},
   "outputs": [],
   "source": [
    "extractor.save_as_json(\"../data/extractions/appartment_rent_ad.extraction.json\")"
   ]
  },
  {
   "cell_type": "code",
   "execution_count": null,
   "metadata": {},
   "outputs": [],
   "source": []
  }
 ],
 "metadata": {
  "kernelspec": {
   "display_name": ".venv",
   "language": "python",
   "name": "python3"
  },
  "language_info": {
   "codemirror_mode": {
    "name": "ipython",
    "version": 3
   },
   "file_extension": ".py",
   "mimetype": "text/x-python",
   "name": "python",
   "nbconvert_exporter": "python",
   "pygments_lexer": "ipython3",
   "version": "3.13.3"
  },
  "orig_nbformat": 4
 },
 "nbformat": 4,
 "nbformat_minor": 2
}
